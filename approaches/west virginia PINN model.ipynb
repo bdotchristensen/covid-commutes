{
 "cells": [
  {
   "cell_type": "code",
   "execution_count": 2,
   "id": "ddd2ecef-65df-40c3-8a6f-4ee821b8e308",
   "metadata": {},
   "outputs": [],
   "source": [
    "import matplotlib.pyplot as plt\n",
    "import pandas as pd\n",
    "import numpy as np\n",
    "import math\n",
    "\n",
    "import torch\n",
    "import torch.nn as nn\n",
    "from torch.optim import RMSprop\n",
    "\n",
    "from torch.utils.data import DataLoader, TensorDataset"
   ]
  },
  {
   "cell_type": "code",
   "execution_count": 13,
   "id": "76c477a0-c109-40d4-b2b3-78a9fab0d1e9",
   "metadata": {},
   "outputs": [
    {
     "name": "stdout",
     "output_type": "stream",
     "text": [
      "Index(['1/22/20', '1/23/20', '1/24/20', '1/25/20', '1/26/20'], dtype='object')\n",
      "Index(['1/22/20', '1/23/20', '1/24/20', '1/25/20', '1/26/20'], dtype='object')\n",
      "torch.Size([1073, 1]) torch.Size([1073, 3])\n"
     ]
    }
   ],
   "source": [
    "data = pd.read_csv('../data/jhu-covid-cases.csv')\n",
    "data = data[data.Province_State == 'West Virginia']\n",
    "data = data[data.columns[11:]]\n",
    "print(data.columns[:5])\n",
    "\n",
    "death = pd.read_csv('../data/jhu-covid-deaths.csv')\n",
    "death = death[death.Province_State == 'West Virginia']\n",
    "death = death[death.columns[12:]]\n",
    "print(death.columns[:5]) # make sure the dates match\n",
    "\n",
    "data = np.array(data.sum(axis = 0)) #.reshape(-1, 1)\n",
    "data = np.convolve(data, np.ones(7) / 7, 'valid')\n",
    "data = torch.tensor(data)\n",
    "Itilde = torch.log(1 + data[20:] - data[:-20]).reshape(1, -1)\n",
    "\n",
    "death = torch.tensor(death.sum(axis = 0))\n",
    "Dt = torch.tensor(np.convolve(death, np.ones(7) / 7, 'valid'))\n",
    "Dtilde = torch.log(1 + Dt[:-20]).reshape(1, -1)\n",
    "\n",
    "N = 1_775_000 \n",
    "Ntilde = math.log(N)\n",
    "\n",
    "Stilde = torch.log(N - torch.exp(Itilde) - torch.exp(Dtilde))\n",
    "\n",
    "first_index = torch.arange(1117)[Itilde[0,:] > 4.6][0].item() # first index above 100 cases \n",
    "\n",
    "Stilde = Stilde[:,first_index:].T\n",
    "Itilde = Itilde[:,first_index:].T\n",
    "Dtilde = Dtilde[:,first_index:].T\n",
    "\n",
    "Y = torch.hstack((Stilde, Itilde, Dtilde))\n",
    "T = torch.arange(1073).reshape(-1, 1) * 1.\n",
    "\n",
    "print(T.shape, Y.shape) # make sure shapes match "
   ]
  },
  {
   "cell_type": "code",
   "execution_count": 14,
   "id": "41594097-24b4-439d-a8e2-e93264f8eb60",
   "metadata": {},
   "outputs": [],
   "source": [
    "class Greek(nn.Module): # 1 to 1 (time to positive value)\n",
    "    def __init__(self):\n",
    "        super().__init__()\n",
    "        self.lin1 = nn.Linear(1, 16)\n",
    "        self.lin2 = nn.Linear(16, 16)\n",
    "        self.lin3 = nn.Linear(16, 16)\n",
    "        self.lin4 = nn.Linear(16, 1)\n",
    "\n",
    "        self.act = nn.GELU()\n",
    "\n",
    "        #self.param = nn.Parameter(torch.randn(1078, 1))\n",
    "\n",
    "    #\"\"\"\n",
    "    def forward(self, x):\n",
    "        x = x / 1000 # ich hab kein lust das zu preprocessieren :P\n",
    "        x = self.lin1(x)\n",
    "        x = self.act(x)\n",
    "        x = self.lin2(x)\n",
    "        x = self.act(x)\n",
    "        x = self.lin3(x)\n",
    "        x = self.act(x)\n",
    "        x = self.lin4(x)\n",
    "        return 1 + torch.sin(x)\n",
    "\n",
    "    #\"\"\"\n",
    "    #def forward(self, t):\n",
    "    #    print(t)\n",
    "    #    return torch.exp(self.param[t])\n",
    "\n",
    "class Curves(nn.Module): # put all 3 in 1\n",
    "    def __init__(self, T = 1078):\n",
    "        super().__init__()\n",
    "        self.lin1 = nn.Linear(1, 48)\n",
    "        self.lin2 = nn.Linear(48, 48)\n",
    "        self.lin3 = nn.Linear(48, 48)\n",
    "        self.lin4 = nn.Linear(48, 48)\n",
    "        self.lin5 = nn.Linear(48, 3)\n",
    "\n",
    "        self.act = nn.GELU()\n",
    "\n",
    "        self.gamma = Greek()\n",
    "        self.beta = Greek()\n",
    "        self.mu = Greek()\n",
    "\n",
    "    def forward(self, x): # takes time and produces S, I, T estimates\n",
    "        x = x / 1000 # again to avoid preprocessing\n",
    "        x = self.lin1(x)\n",
    "        x = self.act(x)\n",
    "        x = self.lin2(x)\n",
    "        x = self.act(x)\n",
    "        x = self.lin3(x)\n",
    "        x = self.act(x)\n",
    "        x = self.lin4(x)\n",
    "        x = self.act(x)\n",
    "        x = self.lin5(x)\n",
    "\n",
    "        return Ntilde * x # so the model only has to predict something smaller\n",
    "\n",
    "    def get_derivative(self, t):\n",
    "        t = t / 1000\n",
    "        t.requires_grad = True\n",
    "        \n",
    "        x = self.forward(t)\n",
    "\n",
    "        grad_s = torch.autograd.grad(x[:,0].sum(), t, create_graph=True)[0]\n",
    "        grad_i = torch.autograd.grad(x[:,1].sum(), t, create_graph=True)[0]\n",
    "        grad_d = torch.autograd.grad(x[:,2].sum(), t, create_graph=True)[0]\n",
    "        \n",
    "        return grad_s, grad_i, grad_d\n"
   ]
  },
  {
   "cell_type": "code",
   "execution_count": null,
   "id": "58de2cc2-1dae-49b8-a01a-38953043ab1a",
   "metadata": {},
   "outputs": [
    {
     "name": "stdout",
     "output_type": "stream",
     "text": [
      "=== Epoch 0 | PDE: 2649.9073 | Curve: 6556.3828 | Boundary: 0.0 ===\n",
      "=== Epoch 9 | PDE: 2.7326 | Curve: 70.7307 | Boundary: 0.0127 ===\n",
      "=== Epoch 18 | PDE: 0.1051 | Curve: 36.7107 | Boundary: 0.0501 ===\n",
      "=== Epoch 27 | PDE: 0.161 | Curve: 46.049 | Boundary: 0.1699 ===\n",
      "=== Epoch 36 | PDE: 0.3928 | Curve: 24.6784 | Boundary: 0.3414 ===\n",
      "=== Epoch 45 | PDE: 1.8514 | Curve: 24.8161 | Boundary: 0.5841 ===\n",
      "=== Epoch 54 | PDE: 1.2099 | Curve: 39.5728 | Boundary: 0.7393 ===\n",
      "=== Epoch 63 | PDE: 0.3523 | Curve: 34.8593 | Boundary: 0.6932 ===\n",
      "=== Epoch 72 | PDE: 1.4945 | Curve: 22.5716 | Boundary: 0.732 ===\n",
      "=== Epoch 81 | PDE: 0.1353 | Curve: 20.3665 | Boundary: 0.6553 ===\n",
      "=== Epoch 90 | PDE: 0.2909 | Curve: 12.5315 | Boundary: 0.6289 ===\n",
      "=== Epoch 99 | PDE: 0.0625 | Curve: 22.1239 | Boundary: 0.5582 ===\n",
      "=== Epoch 108 | PDE: 0.2144 | Curve: 18.4213 | Boundary: 0.4698 ===\n",
      "=== Epoch 117 | PDE: 0.1342 | Curve: 25.3807 | Boundary: 0.402 ===\n",
      "=== Epoch 126 | PDE: 0.4681 | Curve: 16.2893 | Boundary: 0.236 ===\n",
      "=== Epoch 135 | PDE: 0.1624 | Curve: 19.3424 | Boundary: 0.2268 ===\n",
      "=== Epoch 144 | PDE: 0.4649 | Curve: 21.1518 | Boundary: 0.1547 ===\n"
     ]
    }
   ],
   "source": [
    "NN = Curves()\n",
    "optimizer = RMSprop(NN.parameters(), lr = 1e-3)\n",
    "\n",
    "EPOCHS = 800\n",
    "dataset = DataLoader(TensorDataset(T, Y), batch_size = 25, shuffle = True)\n",
    "losses = []\n",
    "\n",
    "for i in range(EPOCHS):\n",
    "\n",
    "    total_loss = 0.\n",
    "\n",
    "    for t, y in dataset:\n",
    "        optimizer.zero_grad()\n",
    "        \n",
    "        y_hat = NN(t)\n",
    "\n",
    "        ## assemble losses\n",
    "        ### distance from the model output to the actual curves\n",
    "        curve_loss = torch.sum((y - y_hat)**2)\n",
    "        \n",
    "        ### pde losses\n",
    "        dsdt, didt, dddt = NN.get_derivative(t)\n",
    "\n",
    "        mu_t = NN.mu(t)\n",
    "        beta_t = NN.beta(t)\n",
    "        gamma_t = NN.gamma(t)\n",
    "\n",
    "        dsdt_hat = gamma_t * torch.exp(y_hat[:,2] - y_hat[:,0]).reshape(-1, 1) - beta_t * torch.exp(y_hat[:,1] - Ntilde).reshape(-1, 1)\n",
    "        dddt_hat = mu_t * torch.exp(y_hat[:,1] - y_hat[:,2]).reshape(-1, 1)\n",
    "        didt_hat = beta_t * torch.exp(y_hat[:,0] - Ntilde).reshape(-1, 1) - \\\n",
    "                    mu_t * torch.exp(y_hat[:,2] - y_hat[:,1]).reshape(-1, 1) - gamma_t\n",
    "\n",
    "        dsdt_loss = torch.sum((dsdt - dsdt_hat)**2)\n",
    "        dddt_loss = torch.sum((dddt - dddt_hat)**2)\n",
    "        didt_loss = torch.sum((didt - didt_hat)**2)\n",
    "\n",
    "        pde_loss = dddt_loss + dsdt_loss + didt_loss\n",
    "\n",
    "        ### boundary loss\n",
    "        pde_bound = torch.sum((dsdt + didt + dddt)**2)\n",
    "        curve_bound = 0. #torch.sum((Ntilde - torch.log(torch.exp(y_hat).sum(axis = 1)))**2)\n",
    "\n",
    "        boundary_loss = pde_bound + curve_bound\n",
    "        \n",
    "        ### total loss assemble\n",
    "        l = 100 * pde_loss + curve_loss + (10 * boundary_loss)\n",
    "        \n",
    "        l.backward()\n",
    "        optimizer.step()\n",
    "\n",
    "        total_loss += l.item() #.detach()\n",
    "\n",
    "    losses.append(total_loss)\n",
    "\n",
    "    if i % 9 == 0:\n",
    "        print('=== Epoch', i, '| PDE:', round(100 * pde_loss.item(), 4), '| Curve:', round(curve_loss.item(), 4), '| Boundary:', round(10 * boundary_loss.item(), 4),  '===')\n",
    "    \n"
   ]
  },
  {
   "cell_type": "code",
   "execution_count": null,
   "id": "38e3446d-da9d-4890-9e39-213790a0e52c",
   "metadata": {},
   "outputs": [],
   "source": [
    "plt.plot(losses[20:])"
   ]
  },
  {
   "cell_type": "code",
   "execution_count": null,
   "id": "e8b2c144-654a-446a-b984-cb826026c6de",
   "metadata": {},
   "outputs": [],
   "source": [
    "with torch.no_grad():\n",
    "    plt.plot(NN(T)[:,2])\n",
    "    plt.plot(Dtilde)"
   ]
  },
  {
   "cell_type": "code",
   "execution_count": null,
   "id": "d29e9370-85ae-49e2-93b7-690d1c084c04",
   "metadata": {},
   "outputs": [],
   "source": [
    "with torch.no_grad():\n",
    "    plt.plot(NN(T)[:,1])\n",
    "    plt.plot(Itilde)"
   ]
  },
  {
   "cell_type": "code",
   "execution_count": null,
   "id": "2fc8cb09-01a2-4c5a-b0f8-0c6d2aff3307",
   "metadata": {},
   "outputs": [],
   "source": [
    "with torch.no_grad():\n",
    "    plt.plot(NN.beta(T)[:,0])"
   ]
  },
  {
   "cell_type": "code",
   "execution_count": null,
   "id": "c997e410-8ac4-4bef-a384-366a3086e77d",
   "metadata": {},
   "outputs": [],
   "source": [
    "with torch.no_grad():\n",
    "    plt.plot(NN.gamma(T)[:,0])"
   ]
  },
  {
   "cell_type": "code",
   "execution_count": null,
   "id": "16e41c32-721d-45bd-8dac-909e94ccbbec",
   "metadata": {},
   "outputs": [],
   "source": [
    "with torch.no_grad():\n",
    "    plt.plot(NN.mu(T)[:,0])"
   ]
  },
  {
   "cell_type": "code",
   "execution_count": null,
   "id": "6dc2afcc-e2a5-4c7f-9b06-ff8af258deb4",
   "metadata": {},
   "outputs": [],
   "source": []
  },
  {
   "cell_type": "code",
   "execution_count": null,
   "id": "4b1388fd-96c3-4419-be35-805e658a40fd",
   "metadata": {},
   "outputs": [],
   "source": []
  }
 ],
 "metadata": {
  "kernelspec": {
   "display_name": "Python 3 (ipykernel)",
   "language": "python",
   "name": "python3"
  },
  "language_info": {
   "codemirror_mode": {
    "name": "ipython",
    "version": 3
   },
   "file_extension": ".py",
   "mimetype": "text/x-python",
   "name": "python",
   "nbconvert_exporter": "python",
   "pygments_lexer": "ipython3",
   "version": "3.8.18"
  }
 },
 "nbformat": 4,
 "nbformat_minor": 5
}
